{
  "nbformat": 4,
  "nbformat_minor": 0,
  "metadata": {
    "colab": {
      "provenance": []
    },
    "kernelspec": {
      "name": "python3",
      "display_name": "Python 3"
    },
    "language_info": {
      "name": "python"
    }
  },
  "cells": [
    {
      "cell_type": "code",
      "execution_count": 8,
      "metadata": {
        "id": "93KYrgbpg1yV"
      },
      "outputs": [],
      "source": [
        "import pandas as pd\n",
        "import numpy as np\n",
        "import random\n",
        "\n",
        "def shinglewithoutsepr(text, k):\n",
        "\n",
        "    shingles = []\n",
        "    for i in range(len(text) - k + 1):\n",
        "        shingle = text[i:i + k]\n",
        "        shingles.append(shingle)\n",
        "    return shingles\n",
        "\n",
        "# Read the content of the two text files\n",
        "with open(\"1.txt\", \"r\") as file:\n",
        "    doc1 = file.read()\n",
        "\n",
        "with open(\"2.txt\", \"r\") as file:\n",
        "    doc2 = file.read()\n",
        "\n",
        "kval = 2\n",
        "shingle1 = shinglewithoutsepr(doc1, kval)\n",
        "shingle2 = shinglewithoutsepr(doc2, kval)\n",
        "all_shingles = list(set(shingle1 + shingle2))\n",
        "\n",
        "print(\"Shingle 1:\", shingle1)\n",
        "print(\"Shingle 2:\", shingle2)\n",
        "print(\"All shingles:\", all_shingles)\n",
        "\n",
        "df = pd.DataFrame(columns=[\"Shingle\", \"doc1\", \"doc2\"])\n",
        "df[\"Shingle\"] = all_shingles\n",
        "df.fillna(0, inplace=True)\n",
        "\n",
        "for i in range(len(shingle1)):\n",
        "    df.loc[df[\"Shingle\"] == shingle1[i], \"doc1\"] = 1\n",
        "\n",
        "for i in range(len(shingle2)):\n",
        "    df.loc[df[\"Shingle\"] == shingle2[i], \"doc2\"] = 1\n",
        "\n",
        "# Calculate hash values\n",
        "df[\"Hash1\"] = df.index.map(lambda x: (17 * int(x) + 5) % len(df))\n",
        "df[\"Hash2\"] = df.index.map(lambda x: (11 * int(x) + 3) % len(df))\n",
        "\n",
        "print(\"Number of unique shingles:\", len(df))\n",
        "print(df)"
      ]
    }
  ]
}